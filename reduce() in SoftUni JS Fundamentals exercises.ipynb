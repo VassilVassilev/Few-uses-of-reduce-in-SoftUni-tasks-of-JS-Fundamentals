{
 "cells": [
  {
   "cell_type": "markdown",
   "metadata": {},
   "source": [
    "## Few examples of reduce() use in SoftUni JS Fundamentals exercices<br>\n"
   ]
  },
  {
   "cell_type": "code",
   "execution_count": 10,
   "metadata": {
    "scrolled": true
   },
   "outputs": [],
   "source": [
    "function sumArr(arr) {\n",
    "    //The normal way with for loop:\n",
    "    let sum1 = 0;\n",
    "    \n",
    "    for (let i = 0; i < arr.length; i++) {\n",
    "        sum1 += arr[i]\n",
    "    }\n",
    "    console.log(`Sum of array elements with loop: ${sum1}`);\n",
    "    \n",
    "    //The reduce way:\n",
    "    let sum2 = arr.reduce((a, b) => a + b)\n",
    "    console.log(`Sum of array elements with reduce: ${sum2}`);\n",
    "}"
   ]
  },
  {
   "cell_type": "code",
   "execution_count": 11,
   "metadata": {},
   "outputs": [
    {
     "name": "stdout",
     "output_type": "stream",
     "text": [
      "Sum of array elements with loop: 10\n",
      "Sum of array elements with reduce: 10\n"
     ]
    }
   ],
   "source": [
    "sumArr([1, 2, 3, 4])"
   ]
  },
  {
   "cell_type": "markdown",
   "metadata": {},
   "source": [
    "Reduce function has some limitations and should be used carefuly, if you don't know whether your array is empty or not."
   ]
  },
  {
   "cell_type": "code",
   "execution_count": 12,
   "metadata": {},
   "outputs": [
    {
     "name": "stdout",
     "output_type": "stream",
     "text": [
      "Sum of array elements with loop: 0\n"
     ]
    },
    {
     "ename": "TypeError",
     "evalue": "Reduce of empty array with no initial value",
     "output_type": "error",
     "traceback": [
      "evalmachine.<anonymous>:11",
      "    let sum2 = arr.reduce((a, b) => a + b)",
      "                   ^",
      "",
      "TypeError: Reduce of empty array with no initial value",
      "    at Array.reduce (<anonymous>)",
      "    at sumArr (evalmachine.<anonymous>:11:20)",
      "    at evalmachine.<anonymous>:1:1",
      "    at ContextifyScript.Script.runInThisContext (vm.js:50:33)",
      "    at Object.runInThisContext (vm.js:139:38)",
      "    at run ([eval]:1002:15)",
      "    at onRunRequest ([eval]:829:18)",
      "    at onMessage ([eval]:789:13)",
      "    at emitTwo (events.js:126:13)",
      "    at process.emit (events.js:214:7)"
     ]
    }
   ],
   "source": [
    "sumArr([])"
   ]
  },
  {
   "cell_type": "markdown",
   "metadata": {},
   "source": [
    "In this case the reduce method will throw you an error and Judge will be mad on you, and you will not know what it wants. How to avoid this, is to introduce a starting value to which to sum the elements."
   ]
  },
  {
   "cell_type": "code",
   "execution_count": 15,
   "metadata": {},
   "outputs": [],
   "source": [
    "function sumArrWithInitialEl(arr) {    \n",
    "    //The reduce way with start value:\n",
    "    let sum = arr.reduce((a, b) => a + b, 0)\n",
    "    console.log(`Sum of array elements with reduce with start value: ${sum}`);\n",
    "}"
   ]
  },
  {
   "cell_type": "code",
   "execution_count": 17,
   "metadata": {},
   "outputs": [
    {
     "name": "stdout",
     "output_type": "stream",
     "text": [
      "Sum of array elements with reduce with start value: 0\n",
      "Sum of array elements with reduce with start value: 10\n"
     ]
    }
   ],
   "source": [
    "sumArrWithInitialEl([])\n",
    "sumArrWithInitialEl([1, 2, 3, 4])"
   ]
  },
  {
   "cell_type": "markdown",
   "metadata": {},
   "source": [
    "Let see in which other cases we could use reduce:\n",
    "### 1. Create object with keys from array/string<br>\n",
    "On the case of Task 01.Towns to JSON - Objects and JSON Lab"
   ]
  },
  {
   "cell_type": "code",
   "execution_count": 27,
   "metadata": {},
   "outputs": [],
   "source": [
    "function reduceToObjectKeys(str) {\n",
    "    let obj = str.split('|').map(x => x.trim()).filter(Boolean).reduce((o, key) => Object.assign(o, {[key]: 0}), {});\n",
    "    console.log(obj)\n",
    "}"
   ]
  },
  {
   "cell_type": "code",
   "execution_count": 28,
   "metadata": {},
   "outputs": [
    {
     "name": "stdout",
     "output_type": "stream",
     "text": [
      "{ Town: 0, Latitude: 0, Longitude: 0 }\n"
     ]
    }
   ],
   "source": [
    "reduceToObjectKeys('| Town | Latitude | Longitude |')"
   ]
  },
  {
   "cell_type": "markdown",
   "metadata": {},
   "source": [
    "### 2. Flatten array of arrays<br>\n",
    "On the case of Task 10.Extract Unique Words - Objects and JSON Lab"
   ]
  },
  {
   "cell_type": "code",
   "execution_count": 57,
   "metadata": {},
   "outputs": [],
   "source": [
    "function appendArrays(arr) {\n",
    "    //Using the concat function for the arrays\n",
    "    let appendedArray = arr.reduce((a, b) => a.concat(b));\n",
    "    console.log(appendedArray)\n",
    "    \n",
    "    //Using spread operator to do the same\n",
    "    appendedArray = arr.reduce((a, b) => [...a, ...b]);\n",
    "    console.log(appendedArray)\n",
    "}"
   ]
  },
  {
   "cell_type": "code",
   "execution_count": 58,
   "metadata": {
    "scrolled": true
   },
   "outputs": [
    {
     "name": "stdout",
     "output_type": "stream",
     "text": [
      "[ 1, 2, 3, 4, 5, 6, 7, 8, 9 ]\n",
      "[ 1, 2, 3, 4, 5, 6, 7, 8, 9 ]\n"
     ]
    }
   ],
   "source": [
    "appendArrays([[1, 2, 3], [4, 5, 6], [7, 8, 9]])"
   ]
  },
  {
   "cell_type": "markdown",
   "metadata": {},
   "source": [
    "### 3. Find all occurencies of element in array<br>\n",
    "On the case of Task 03. Add and Remove Elements from an Array - Arrays and Matrices Lab"
   ]
  },
  {
   "cell_type": "code",
   "execution_count": 63,
   "metadata": {},
   "outputs": [],
   "source": [
    "function findOccurenciesOfElement(arr1, val) {\n",
    "    let sumArray = arr1.reduce((arr, el, index) => (el === val ? [...arr, index] : arr), []);\n",
    "    console.log(sumArray)\n",
    "}"
   ]
  },
  {
   "cell_type": "code",
   "execution_count": 64,
   "metadata": {},
   "outputs": [
    {
     "name": "stdout",
     "output_type": "stream",
     "text": [
      "[ 0, 3, 6, 7 ]\n"
     ]
    }
   ],
   "source": [
    "findOccurenciesOfElement([1, 2, 3, 1, 2, 3, 1, 1], 1)"
   ]
  },
  {
   "cell_type": "markdown",
   "metadata": {},
   "source": [
    "For more use cases of reduce() you could read here:\n",
    "https://medium.freecodecamp.org/reduce-f47a7da511a9\n",
    "\n",
    "Source for IJavaScript:\n",
    "https://github.com/n-riesco/ijavascript\n",
    "\n",
    "Other nice JS notebooks:\n",
    "https://beta.observablehq.com/"
   ]
  }
 ],
 "metadata": {
  "kernelspec": {
   "display_name": "Javascript (Node.js)",
   "language": "javascript",
   "name": "javascript"
  },
  "language_info": {
   "file_extension": ".js",
   "mimetype": "application/javascript",
   "name": "javascript",
   "version": "8.12.0"
  }
 },
 "nbformat": 4,
 "nbformat_minor": 2
}
